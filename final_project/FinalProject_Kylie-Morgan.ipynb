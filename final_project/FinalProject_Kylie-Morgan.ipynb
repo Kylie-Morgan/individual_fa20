{
 "cells": [
  {
   "cell_type": "markdown",
   "metadata": {},
   "source": [
    "# COGS 108 - Final Project "
   ]
  },
  {
   "cell_type": "markdown",
   "metadata": {},
   "source": [
    "# Overview"
   ]
  },
  {
   "cell_type": "markdown",
   "metadata": {},
   "source": [
    "Sometimes people have to pick and choose what they have time to do. One way to pick is to look at online reviews, like Yelp's website. However, there can be false reviews or a person reposting a rating to boost a place's score. In this analysis, I compared the sentitment of the textual review to the numeric rating and these to the overall rating of the park to see if there were a significant difference. The difference in ratings was not significant; the overall numeric rating is a good representation of the textual reviews. "
   ]
  },
  {
   "cell_type": "markdown",
   "metadata": {},
   "source": [
    "# Name & GitHub ID\n",
    "\n",
    "- Name: Kylie Morgan\n",
    "- GitHub Username: Kylie-Morgan"
   ]
  },
  {
   "cell_type": "markdown",
   "metadata": {},
   "source": [
    "# Research Question"
   ]
  },
  {
   "cell_type": "markdown",
   "metadata": {},
   "source": [
    "Are the numeric Yelp review ratings a good representation of the sentitment of the textual review? "
   ]
  },
  {
   "cell_type": "markdown",
   "metadata": {},
   "source": [
    "## Background and Prior Work"
   ]
  },
  {
   "cell_type": "markdown",
   "metadata": {},
   "source": [
    "Looking to the internet for reviews and reccomendations is nothing short of ordinary. But can you really trust sites like Yelp? \n",
    "\"Georgios Zervas, coauthor of a recent study concluding that at least 16 percent of the reviews are fake\" (Seligson 1). The articles continues to say that the majority of fake reviews are actually coming from restuarants. They want to counter any negative reviews to boost their rating score. Yelp and other online review sites work hard to combat this; one quarter of all reviews submit to Yelp aren't even published. Zervas doesn't have access to the methods of weeding out fake reviews, but his analysis leads him to belive Yelp does a pretty good job. \n",
    "Harvard Bussiness school conducted a similar analysis of whether or not consumer reviews are good for business. \n",
    "\n",
    "Jason Brown's piece spoke to the nature of ghost algorithms to deal with fake Yelp reviews. He suggests looking at the account data of the person posting the review: where else are they reviewing, what is their profile picture, and what kinds of photos have the uploaded? Since this data doesn't come with account information, I wasn't able to do this. In future projects about online reviews, I would try to include the reliability of the user. I could weight the ratings according to that. \n",
    "Post Modern marketing analyzed the reviews that are taken down. They came up with the biggest influence, other than the profile of the user, was pictures posted. The rating of the review had nothing to do with whether or not it was taken down. \n",
    "\n",
    "Both of these pieces talked about fake review to increase bussiness or benefit the owners. Parks and recreation, however does not gain money exclusively from people attending the park. Form my research proposal, I knew how they tracked the response to a park. The Human Kinetics Journal released a paper on making parks more appealing to low-income minority youth, as there is a trend in lower levels of physical activity. The study compared two unrenovated parks with two undergoing renovation. The findings show that park improvements had a significant impact on park use and local physical activity. I looked into the SanDiego Parks and Rec website and reddit accounts to see if there were any major complaints or changes. I came across the Park Design Manual and was able to get an idea of the reasoning behind the design of the parks; the department keeps sustainability, safety, accessibility, and amenities at the top of their list. The design of the park is meant to boost user experience. Towards the end of the manual there a section overviewing how parks are designed to decrease crime. I also found the budget, linked below. Neither of these documents mentioned increases in budget from online reviews. Towns do try and take into account community members opinion, but something as broad as Yelp reviews don't impact park budget. \n",
    "\n",
    "\n",
    "\n",
    "References (include links):\n",
    "\n",
    "\n",
    "1) https://hbswk.hbs.edu/item/the-yelp-factor-are-consumer-reviews-good-for-business\n",
    "\n",
    "2) http://www.bu.edu/articles/2013/yelp-reviews-can-you-trust-them/\n",
    "\n",
    "3) https://www.brightlocal.com/learn/how-to-identify-and-deal-with-fake-yelp-reviews/\n",
    "\n",
    "4) https://www.postmm.com/social-media-marketing/yelp-reviews-not-recommended-data-analysis/\n",
    "\n",
    "5) Cohen, D. A., Han, B., Isacoff, J., Shulaker, B., Williamson, S., Marsh, T., ... & Bhatia, R. (2015). Impact of park renovations on park use and park-based physical activity. Journal of physical activity and health, 12(2), 289-295.\n",
    "\n",
    "6) https://www.sdparks.org/content/dam/sdparks/en/pdf/Development/Park%20Design%20Manual.pdf\n",
    "    budget- https://www.sandiego.gov/sites/default/files/fiscal_year_2020_parks_and_recreation_department_adopted_budget.pdf\n"
   ]
  },
  {
   "cell_type": "markdown",
   "metadata": {},
   "source": [
    "# Hypothesis\n"
   ]
  },
  {
   "cell_type": "markdown",
   "metadata": {},
   "source": [
    "H0: There's no difference between the ratings and the sentiment of the textual reviews\n",
    "\n",
    "I think that the parks will have no difference between the ratings and the textual reviews. Since they are not bussiness, reviews don't affect the profit of the establishment. People usually only leave reviews after a really poitive or negative experience. I think the reviews will be fair and the ratings pretty similar because there is nothing to gain from lying about the review. "
   ]
  },
  {
   "cell_type": "markdown",
   "metadata": {},
   "source": [
    "# Dataset(s)"
   ]
  },
  {
   "cell_type": "markdown",
   "metadata": {},
   "source": [
    "I am working with the Yelp reviews and locations data. The Yelp review datasets API only returns businesses with reviews, so if any of the parks don't have reviews they wouldn't be in the dataset. \n",
    "Yelp in it of itself is biased; people are more likely to write reviews after an extreme positive or negative experience. Because of this, the data is vaulnerable to outliars. \n",
    "\n",
    "\n",
    "(Copy this information for each dataset)\n",
    "- Dataset Name: yelp_SD_parks.csv\n",
    "- Link to the dataset: https://github.com/COGS108/individual_fa20/blob/master/data/yelp_SD_parks.csv\n",
    "- Number of observations:833 rows × 10 columns\n",
    "There's 818 unique parks. 833 rows because some of the parks ae mentioned multiple times. This dataset also shows address (including latitude and longitude), phone number, url, numeric rating, the number of reviews, Yelp ID, and whether or not the park is closed. There are 256 rows missing information, mostly phone numbers. \n",
    "- Dataset Name: yelp_SD_reviews.csv\n",
    "- Link to the dataset:https://github.com/COGS108/individual_fa20/blob/master/data/yelp_SD_reviews.csv\n",
    "- Number of observations:2333 rows × 3 columns\n",
    "There's 818 unique parks. 2333 different text reviews with a numeric rating. There were several text reviews of some locations and less for others. This made analysis suseptible to outliars. Not all number of reviews from other data set are in this data set. I will do sentiment anaylis on the text and compare it to the numeric rating. \n",
    "\n",
    "I will combine these datasets to compare the ratings in the dataset with text analysis to the overall Yelp rating. "
   ]
  },
  {
   "cell_type": "markdown",
   "metadata": {},
   "source": [
    "# Setup"
   ]
  },
  {
   "cell_type": "code",
   "execution_count": 1,
   "metadata": {},
   "outputs": [],
   "source": [
    "#made my imports\n",
    "import seaborn as sns\n",
    "sns.set()\n",
    "sns.set_context('talk')\n",
    "\n",
    "%matplotlib inline\n",
    "\n",
    "import numpy as np\n",
    "import pandas as pd\n",
    "import matplotlib.pyplot as plt\n",
    "\n",
    "# Import nltk package \n",
    "#   PennTreeBank word tokenizer \n",
    "#   English language stopwords\n",
    "import nltk\n",
    "from nltk.tokenize import word_tokenize\n",
    "from nltk.corpus import stopwords\n",
    "\n",
    "import warnings\n",
    "warnings.filterwarnings('ignore')\n",
    "\n",
    "# scikit-learn imports\n",
    "#   SVM (Support Vector Machine) classifer \n",
    "#   Vectorizer, which transforms text data into bag-of-words feature\n",
    "#   TF-IDF Vectorizer that first removes widely used words in the dataset and then transforms test data\n",
    "#   Metrics functions to evaluate performance\n",
    "from sklearn.svm import SVC\n",
    "from sklearn.feature_extraction.text import CountVectorizer, TfidfVectorizer\n",
    "from sklearn.metrics import classification_report, precision_recall_fscore_support"
   ]
  },
  {
   "cell_type": "code",
   "execution_count": 2,
   "metadata": {},
   "outputs": [
    {
     "name": "stderr",
     "output_type": "stream",
     "text": [
      "[nltk_data] Downloading package punkt to /home/kmmorgan/nltk_data...\n",
      "[nltk_data]   Package punkt is already up-to-date!\n",
      "[nltk_data] Downloading package stopwords to\n",
      "[nltk_data]     /home/kmmorgan/nltk_data...\n",
      "[nltk_data]   Package stopwords is already up-to-date!\n"
     ]
    },
    {
     "data": {
      "text/plain": [
       "True"
      ]
     },
     "execution_count": 2,
     "metadata": {},
     "output_type": "execute_result"
    }
   ],
   "source": [
    "nltk.download('punkt')\n",
    "nltk.download('stopwords')"
   ]
  },
  {
   "cell_type": "code",
   "execution_count": 3,
   "metadata": {},
   "outputs": [],
   "source": [
    "Yelp_reviews_df = pd.read_csv('yelp_SD_reviews.csv')\n",
    "Yelp_parks_df = pd.read_csv('yelp_SD_parks.csv')"
   ]
  },
  {
   "cell_type": "markdown",
   "metadata": {},
   "source": [
    "# Text Analysis"
   ]
  },
  {
   "cell_type": "markdown",
   "metadata": {},
   "source": [
    " First I wanted to test the accuracy of the numeric ratings to the text review. I completed tf-idf text analysis on the yelp_SD_reviews.csv data"
   ]
  },
  {
   "cell_type": "code",
   "execution_count": 4,
   "metadata": {},
   "outputs": [
    {
     "data": {
      "text/html": [
       "<div>\n",
       "<style scoped>\n",
       "    .dataframe tbody tr th:only-of-type {\n",
       "        vertical-align: middle;\n",
       "    }\n",
       "\n",
       "    .dataframe tbody tr th {\n",
       "        vertical-align: top;\n",
       "    }\n",
       "\n",
       "    .dataframe thead th {\n",
       "        text-align: right;\n",
       "    }\n",
       "</style>\n",
       "<table border=\"1\" class=\"dataframe\">\n",
       "  <thead>\n",
       "    <tr style=\"text-align: right;\">\n",
       "      <th></th>\n",
       "      <th>id</th>\n",
       "      <th>rating</th>\n",
       "      <th>text</th>\n",
       "    </tr>\n",
       "  </thead>\n",
       "  <tbody>\n",
       "    <tr>\n",
       "      <th>0</th>\n",
       "      <td>Balboa Park</td>\n",
       "      <td>5</td>\n",
       "      <td>Balboa Park is a must see when coming to San D...</td>\n",
       "    </tr>\n",
       "    <tr>\n",
       "      <th>1</th>\n",
       "      <td>Balboa Park</td>\n",
       "      <td>5</td>\n",
       "      <td>Beautiful grounds even to take a stroll during...</td>\n",
       "    </tr>\n",
       "    <tr>\n",
       "      <th>2</th>\n",
       "      <td>Balboa Park</td>\n",
       "      <td>5</td>\n",
       "      <td>Beautiful sightseeing in San Diego. Lots of wa...</td>\n",
       "    </tr>\n",
       "    <tr>\n",
       "      <th>3</th>\n",
       "      <td>Civita Park</td>\n",
       "      <td>5</td>\n",
       "      <td>Was invited to child's B-Day party pre Covid-1...</td>\n",
       "    </tr>\n",
       "    <tr>\n",
       "      <th>4</th>\n",
       "      <td>Civita Park</td>\n",
       "      <td>5</td>\n",
       "      <td>Pretty nice park, beautiful design.  Anyone is...</td>\n",
       "    </tr>\n",
       "    <tr>\n",
       "      <th>5</th>\n",
       "      <td>Civita Park</td>\n",
       "      <td>1</td>\n",
       "      <td>We love Civita Park for its wide open spaces t...</td>\n",
       "    </tr>\n",
       "    <tr>\n",
       "      <th>6</th>\n",
       "      <td>Waterfront Park</td>\n",
       "      <td>5</td>\n",
       "      <td>After eating brunch in Little Italy, we decide...</td>\n",
       "    </tr>\n",
       "    <tr>\n",
       "      <th>7</th>\n",
       "      <td>Waterfront Park</td>\n",
       "      <td>5</td>\n",
       "      <td>Definitely worth the price of admission.\\n\\nIf...</td>\n",
       "    </tr>\n",
       "    <tr>\n",
       "      <th>8</th>\n",
       "      <td>Waterfront Park</td>\n",
       "      <td>4</td>\n",
       "      <td>Well First I got here and I was quite amazed a...</td>\n",
       "    </tr>\n",
       "    <tr>\n",
       "      <th>9</th>\n",
       "      <td>Trolley Barn Park</td>\n",
       "      <td>5</td>\n",
       "      <td>What a beautiful and welcoming park!  I have b...</td>\n",
       "    </tr>\n",
       "  </tbody>\n",
       "</table>\n",
       "</div>"
      ],
      "text/plain": [
       "                  id  rating  \\\n",
       "0        Balboa Park       5   \n",
       "1        Balboa Park       5   \n",
       "2        Balboa Park       5   \n",
       "3        Civita Park       5   \n",
       "4        Civita Park       5   \n",
       "5        Civita Park       1   \n",
       "6    Waterfront Park       5   \n",
       "7    Waterfront Park       5   \n",
       "8    Waterfront Park       4   \n",
       "9  Trolley Barn Park       5   \n",
       "\n",
       "                                                text  \n",
       "0  Balboa Park is a must see when coming to San D...  \n",
       "1  Beautiful grounds even to take a stroll during...  \n",
       "2  Beautiful sightseeing in San Diego. Lots of wa...  \n",
       "3  Was invited to child's B-Day party pre Covid-1...  \n",
       "4  Pretty nice park, beautiful design.  Anyone is...  \n",
       "5  We love Civita Park for its wide open spaces t...  \n",
       "6  After eating brunch in Little Italy, we decide...  \n",
       "7  Definitely worth the price of admission.\\n\\nIf...  \n",
       "8  Well First I got here and I was quite amazed a...  \n",
       "9  What a beautiful and welcoming park!  I have b...  "
      ]
     },
     "execution_count": 4,
     "metadata": {},
     "output_type": "execute_result"
    }
   ],
   "source": [
    "#First I checked out the reviews data\n",
    "Yelp_reviews_df.head(10)"
   ]
  },
  {
   "cell_type": "code",
   "execution_count": 5,
   "metadata": {},
   "outputs": [
    {
     "data": {
      "text/plain": [
       "array([5, 1, 4, 3, 2])"
      ]
     },
     "execution_count": 5,
     "metadata": {},
     "output_type": "execute_result"
    }
   ],
   "source": [
    "#I doubled checked that all 818 parks were in the id column. I also check to make sure each park was rated and \n",
    "#there were no cells with null values\n",
    "Yelp_reviews_df.isna().mean()\n",
    "Yelp_reviews_df['id'].unique()\n",
    "Yelp_reviews_df['rating'].unique()"
   ]
  },
  {
   "cell_type": "code",
   "execution_count": 6,
   "metadata": {},
   "outputs": [],
   "source": [
    "#Turn the rating into a positive or a negative- 0 or 1\n",
    "def convert_rating(rating):\n",
    "\n",
    "    if rating == 5:\n",
    "        return 1.0\n",
    "    elif rating == 4:\n",
    "        return 1.0\n",
    "    elif rating == 3:\n",
    "        return 1.0\n",
    "    elif rating == 2:\n",
    "        return 0.0\n",
    "    elif rating == 1:\n",
    "        return 0.0\n",
    "    else:\n",
    "        return rating"
   ]
  },
  {
   "cell_type": "code",
   "execution_count": 7,
   "metadata": {},
   "outputs": [
    {
     "data": {
      "text/html": [
       "<div>\n",
       "<style scoped>\n",
       "    .dataframe tbody tr th:only-of-type {\n",
       "        vertical-align: middle;\n",
       "    }\n",
       "\n",
       "    .dataframe tbody tr th {\n",
       "        vertical-align: top;\n",
       "    }\n",
       "\n",
       "    .dataframe thead th {\n",
       "        text-align: right;\n",
       "    }\n",
       "</style>\n",
       "<table border=\"1\" class=\"dataframe\">\n",
       "  <thead>\n",
       "    <tr style=\"text-align: right;\">\n",
       "      <th></th>\n",
       "      <th>id</th>\n",
       "      <th>rating</th>\n",
       "      <th>text</th>\n",
       "      <th>pos_neg</th>\n",
       "    </tr>\n",
       "  </thead>\n",
       "  <tbody>\n",
       "    <tr>\n",
       "      <th>0</th>\n",
       "      <td>Balboa Park</td>\n",
       "      <td>5</td>\n",
       "      <td>Balboa Park is a must see when coming to San D...</td>\n",
       "      <td>1.0</td>\n",
       "    </tr>\n",
       "    <tr>\n",
       "      <th>1</th>\n",
       "      <td>Balboa Park</td>\n",
       "      <td>5</td>\n",
       "      <td>Beautiful grounds even to take a stroll during...</td>\n",
       "      <td>1.0</td>\n",
       "    </tr>\n",
       "    <tr>\n",
       "      <th>2</th>\n",
       "      <td>Balboa Park</td>\n",
       "      <td>5</td>\n",
       "      <td>Beautiful sightseeing in San Diego. Lots of wa...</td>\n",
       "      <td>1.0</td>\n",
       "    </tr>\n",
       "    <tr>\n",
       "      <th>3</th>\n",
       "      <td>Civita Park</td>\n",
       "      <td>5</td>\n",
       "      <td>Was invited to child's B-Day party pre Covid-1...</td>\n",
       "      <td>1.0</td>\n",
       "    </tr>\n",
       "    <tr>\n",
       "      <th>4</th>\n",
       "      <td>Civita Park</td>\n",
       "      <td>5</td>\n",
       "      <td>Pretty nice park, beautiful design.  Anyone is...</td>\n",
       "      <td>1.0</td>\n",
       "    </tr>\n",
       "    <tr>\n",
       "      <th>...</th>\n",
       "      <td>...</td>\n",
       "      <td>...</td>\n",
       "      <td>...</td>\n",
       "      <td>...</td>\n",
       "    </tr>\n",
       "    <tr>\n",
       "      <th>2328</th>\n",
       "      <td>Petco Park</td>\n",
       "      <td>5</td>\n",
       "      <td>I have visited over 27 MLB Ballparks including...</td>\n",
       "      <td>1.0</td>\n",
       "    </tr>\n",
       "    <tr>\n",
       "      <th>2329</th>\n",
       "      <td>Ann D. L'Heureux Memorial Dog Park</td>\n",
       "      <td>4</td>\n",
       "      <td>No grass here but it's a great dog park. if yo...</td>\n",
       "      <td>1.0</td>\n",
       "    </tr>\n",
       "    <tr>\n",
       "      <th>2330</th>\n",
       "      <td>Ann D. L'Heureux Memorial Dog Park</td>\n",
       "      <td>3</td>\n",
       "      <td>I love taking our cholate lab here, however, t...</td>\n",
       "      <td>1.0</td>\n",
       "    </tr>\n",
       "    <tr>\n",
       "      <th>2331</th>\n",
       "      <td>Ann D. L'Heureux Memorial Dog Park</td>\n",
       "      <td>3</td>\n",
       "      <td>Pretty small dog park overall. The center of t...</td>\n",
       "      <td>1.0</td>\n",
       "    </tr>\n",
       "    <tr>\n",
       "      <th>2332</th>\n",
       "      <td>Fairbrook Farm</td>\n",
       "      <td>5</td>\n",
       "      <td>Super friendly staff! I always feel welcome an...</td>\n",
       "      <td>1.0</td>\n",
       "    </tr>\n",
       "  </tbody>\n",
       "</table>\n",
       "<p>2333 rows × 4 columns</p>\n",
       "</div>"
      ],
      "text/plain": [
       "                                      id  rating  \\\n",
       "0                            Balboa Park       5   \n",
       "1                            Balboa Park       5   \n",
       "2                            Balboa Park       5   \n",
       "3                            Civita Park       5   \n",
       "4                            Civita Park       5   \n",
       "...                                  ...     ...   \n",
       "2328                          Petco Park       5   \n",
       "2329  Ann D. L'Heureux Memorial Dog Park       4   \n",
       "2330  Ann D. L'Heureux Memorial Dog Park       3   \n",
       "2331  Ann D. L'Heureux Memorial Dog Park       3   \n",
       "2332                      Fairbrook Farm       5   \n",
       "\n",
       "                                                   text  pos_neg  \n",
       "0     Balboa Park is a must see when coming to San D...      1.0  \n",
       "1     Beautiful grounds even to take a stroll during...      1.0  \n",
       "2     Beautiful sightseeing in San Diego. Lots of wa...      1.0  \n",
       "3     Was invited to child's B-Day party pre Covid-1...      1.0  \n",
       "4     Pretty nice park, beautiful design.  Anyone is...      1.0  \n",
       "...                                                 ...      ...  \n",
       "2328  I have visited over 27 MLB Ballparks including...      1.0  \n",
       "2329  No grass here but it's a great dog park. if yo...      1.0  \n",
       "2330  I love taking our cholate lab here, however, t...      1.0  \n",
       "2331  Pretty small dog park overall. The center of t...      1.0  \n",
       "2332  Super friendly staff! I always feel welcome an...      1.0  \n",
       "\n",
       "[2333 rows x 4 columns]"
      ]
     },
     "execution_count": 7,
     "metadata": {},
     "output_type": "execute_result"
    }
   ],
   "source": [
    "#create a new column for these values\n",
    "pos_neg = Yelp_reviews_df['rating'].apply(convert_rating)\n",
    "Yelp_reviews_df['pos_neg'] = pos_neg\n",
    "Yelp_reviews_df"
   ]
  },
  {
   "cell_type": "code",
   "execution_count": 8,
   "metadata": {},
   "outputs": [],
   "source": [
    "#convert text data into vector\n",
    "tfidf = TfidfVectorizer( sublinear_tf = True, analyzer = 'word', max_features = 2000, tokenizer = word_tokenize)"
   ]
  },
  {
   "cell_type": "code",
   "execution_count": 9,
   "metadata": {},
   "outputs": [],
   "source": [
    "#vectorize the reviews- review_tfidf_X = rating text vectorized\n",
    "review_tfidf_X = tfidf.fit_transform(Yelp_reviews_df['text']).toarray()"
   ]
  },
  {
   "cell_type": "code",
   "execution_count": 10,
   "metadata": {},
   "outputs": [],
   "source": [
    "# create new frame for pos/neg values\n",
    "review_y = Yelp_reviews_df['pos_neg'].copy()"
   ]
  },
  {
   "cell_type": "code",
   "execution_count": 11,
   "metadata": {},
   "outputs": [],
   "source": [
    "#split the data into train and test\n",
    "num_training = int(.7 * len(Yelp_reviews_df))"
   ]
  },
  {
   "cell_type": "code",
   "execution_count": 12,
   "metadata": {},
   "outputs": [],
   "source": [
    "review_train_tfidf_X = review_tfidf_X[:num_training]\n",
    "\n",
    "review_test_tfidf_X = review_tfidf_X[num_training:]\n",
    "\n",
    "review_train_tfidf_y = review_y[:num_training]\n",
    "\n",
    "review_test_tfidf_y = review_y[num_training:]"
   ]
  },
  {
   "cell_type": "code",
   "execution_count": 13,
   "metadata": {},
   "outputs": [],
   "source": [
    "# create svm\n",
    "def train_SVM(X, y, kernel='linear'):\n",
    "\n",
    "    clf = SVC(kernel = kernel)\n",
    "    clf.fit(X, y)\n",
    "    return clf"
   ]
  },
  {
   "cell_type": "code",
   "execution_count": 14,
   "metadata": {},
   "outputs": [],
   "source": [
    "#train the data\n",
    "review_tfidf_clf = train_SVM (review_train_tfidf_X, review_train_tfidf_y, kernel= 'linear')"
   ]
  },
  {
   "cell_type": "code",
   "execution_count": 15,
   "metadata": {},
   "outputs": [],
   "source": [
    "pred_train_tfidf_y = review_tfidf_clf.predict(review_train_tfidf_X)\n",
    "pred_test_tfidf_y = review_tfidf_clf.predict(review_test_tfidf_X)"
   ]
  },
  {
   "cell_type": "code",
   "execution_count": 16,
   "metadata": {},
   "outputs": [
    {
     "name": "stdout",
     "output_type": "stream",
     "text": [
      "              precision    recall  f1-score   support\n",
      "\n",
      "         0.0       1.00      0.47      0.64       194\n",
      "         1.0       0.93      1.00      0.97      1439\n",
      "\n",
      "    accuracy                           0.94      1633\n",
      "   macro avg       0.97      0.73      0.80      1633\n",
      "weighted avg       0.94      0.94      0.93      1633\n",
      "\n",
      "              precision    recall  f1-score   support\n",
      "\n",
      "         0.0       0.60      0.04      0.07        78\n",
      "         1.0       0.89      1.00      0.94       622\n",
      "\n",
      "    accuracy                           0.89       700\n",
      "   macro avg       0.75      0.52      0.51       700\n",
      "weighted avg       0.86      0.89      0.84       700\n",
      "\n"
     ]
    }
   ],
   "source": [
    "print(classification_report(review_train_tfidf_y, pred_train_tfidf_y))\n",
    "print(classification_report(review_test_tfidf_y, pred_test_tfidf_y))"
   ]
  },
  {
   "cell_type": "markdown",
   "metadata": {},
   "source": [
    "From this, I see that the precision scores are pretty high. This means that the numeric ratings are a good indication of the text. From this, I now trust the numeric scores from the reviews dataset. I saw that the test precision score was lower, but I think that's just because the test dataset is small.\n",
    "In the Parks data set, the review count is much higher than the reviews dataset. This means that some of these reviews have no text associated. These reviews are less trustworthy, so I won't be added them to the geospatial visualization."
   ]
  },
  {
   "cell_type": "markdown",
   "metadata": {},
   "source": [
    "# Data Combining and Analysis"
   ]
  },
  {
   "cell_type": "markdown",
   "metadata": {},
   "source": [
    "Now I combined the cleaned the data from Yelp reviews and Yelp park locations"
   ]
  },
  {
   "cell_type": "code",
   "execution_count": 19,
   "metadata": {},
   "outputs": [
    {
     "data": {
      "text/html": [
       "<div>\n",
       "<style scoped>\n",
       "    .dataframe tbody tr th:only-of-type {\n",
       "        vertical-align: middle;\n",
       "    }\n",
       "\n",
       "    .dataframe tbody tr th {\n",
       "        vertical-align: top;\n",
       "    }\n",
       "\n",
       "    .dataframe thead th {\n",
       "        text-align: right;\n",
       "    }\n",
       "</style>\n",
       "<table border=\"1\" class=\"dataframe\">\n",
       "  <thead>\n",
       "    <tr style=\"text-align: right;\">\n",
       "      <th></th>\n",
       "      <th>name</th>\n",
       "      <th>address</th>\n",
       "      <th>rating</th>\n",
       "      <th>review_count</th>\n",
       "      <th>longitude</th>\n",
       "      <th>latitude</th>\n",
       "      <th>zip</th>\n",
       "    </tr>\n",
       "  </thead>\n",
       "  <tbody>\n",
       "    <tr>\n",
       "      <th>0</th>\n",
       "      <td>Balboa Park</td>\n",
       "      <td>1549 El Prado San Diego, CA 92101</td>\n",
       "      <td>5.0</td>\n",
       "      <td>2105</td>\n",
       "      <td>-117.153150</td>\n",
       "      <td>32.734502</td>\n",
       "      <td>92101</td>\n",
       "    </tr>\n",
       "    <tr>\n",
       "      <th>1</th>\n",
       "      <td>Civita Park</td>\n",
       "      <td>7960 Civita Blvd San Diego, CA 92108</td>\n",
       "      <td>4.5</td>\n",
       "      <td>46</td>\n",
       "      <td>-117.147278</td>\n",
       "      <td>32.778315</td>\n",
       "      <td>92108</td>\n",
       "    </tr>\n",
       "    <tr>\n",
       "      <th>2</th>\n",
       "      <td>Waterfront Park</td>\n",
       "      <td>1600 Pacific Hwy San Diego, CA 92101</td>\n",
       "      <td>4.5</td>\n",
       "      <td>242</td>\n",
       "      <td>-117.172479</td>\n",
       "      <td>32.721952</td>\n",
       "      <td>92101</td>\n",
       "    </tr>\n",
       "    <tr>\n",
       "      <th>3</th>\n",
       "      <td>Trolley Barn Park</td>\n",
       "      <td>Adams Ave And Florida St San Diego, CA 92116</td>\n",
       "      <td>4.5</td>\n",
       "      <td>102</td>\n",
       "      <td>-117.143789</td>\n",
       "      <td>32.762463</td>\n",
       "      <td>92116</td>\n",
       "    </tr>\n",
       "    <tr>\n",
       "      <th>4</th>\n",
       "      <td>Bay View Park</td>\n",
       "      <td>413 1st St Coronado, CA 92118</td>\n",
       "      <td>5.0</td>\n",
       "      <td>42</td>\n",
       "      <td>-117.178967</td>\n",
       "      <td>32.701785</td>\n",
       "      <td>92118</td>\n",
       "    </tr>\n",
       "    <tr>\n",
       "      <th>...</th>\n",
       "      <td>...</td>\n",
       "      <td>...</td>\n",
       "      <td>...</td>\n",
       "      <td>...</td>\n",
       "      <td>...</td>\n",
       "      <td>...</td>\n",
       "      <td>...</td>\n",
       "    </tr>\n",
       "    <tr>\n",
       "      <th>828</th>\n",
       "      <td>Del Cerro - San Diego</td>\n",
       "      <td>San Diego, CA 92120</td>\n",
       "      <td>4.5</td>\n",
       "      <td>12</td>\n",
       "      <td>-117.073524</td>\n",
       "      <td>32.792626</td>\n",
       "      <td>92120</td>\n",
       "    </tr>\n",
       "    <tr>\n",
       "      <th>829</th>\n",
       "      <td>San Diego Metropolitan Transit System</td>\n",
       "      <td>1255 Imperial Ave Ste 1000 San Diego, CA 92101</td>\n",
       "      <td>2.5</td>\n",
       "      <td>268</td>\n",
       "      <td>-117.153400</td>\n",
       "      <td>32.705760</td>\n",
       "      <td>92101</td>\n",
       "    </tr>\n",
       "    <tr>\n",
       "      <th>830</th>\n",
       "      <td>Petco Park</td>\n",
       "      <td>100 Park Blvd San Diego, CA 92101</td>\n",
       "      <td>4.0</td>\n",
       "      <td>1667</td>\n",
       "      <td>-117.157054</td>\n",
       "      <td>32.707246</td>\n",
       "      <td>92101</td>\n",
       "    </tr>\n",
       "    <tr>\n",
       "      <th>831</th>\n",
       "      <td>Ann D. L'Heureux Memorial Dog Park</td>\n",
       "      <td>2700 Carlsbad Village Dr Carlsbad, CA 92008</td>\n",
       "      <td>3.0</td>\n",
       "      <td>50</td>\n",
       "      <td>-117.316419</td>\n",
       "      <td>33.171137</td>\n",
       "      <td>92008</td>\n",
       "    </tr>\n",
       "    <tr>\n",
       "      <th>832</th>\n",
       "      <td>Fairbrook Farm</td>\n",
       "      <td>4949 S Mission Rd Fallbrook, CA 92028</td>\n",
       "      <td>5.0</td>\n",
       "      <td>1</td>\n",
       "      <td>-117.227747</td>\n",
       "      <td>33.302164</td>\n",
       "      <td>92028</td>\n",
       "    </tr>\n",
       "  </tbody>\n",
       "</table>\n",
       "<p>833 rows × 7 columns</p>\n",
       "</div>"
      ],
      "text/plain": [
       "                                      name  \\\n",
       "0                              Balboa Park   \n",
       "1                              Civita Park   \n",
       "2                          Waterfront Park   \n",
       "3                        Trolley Barn Park   \n",
       "4                            Bay View Park   \n",
       "..                                     ...   \n",
       "828                  Del Cerro - San Diego   \n",
       "829  San Diego Metropolitan Transit System   \n",
       "830                             Petco Park   \n",
       "831     Ann D. L'Heureux Memorial Dog Park   \n",
       "832                         Fairbrook Farm   \n",
       "\n",
       "                                            address  rating  review_count  \\\n",
       "0                 1549 El Prado San Diego, CA 92101     5.0          2105   \n",
       "1              7960 Civita Blvd San Diego, CA 92108     4.5            46   \n",
       "2              1600 Pacific Hwy San Diego, CA 92101     4.5           242   \n",
       "3      Adams Ave And Florida St San Diego, CA 92116     4.5           102   \n",
       "4                     413 1st St Coronado, CA 92118     5.0            42   \n",
       "..                                              ...     ...           ...   \n",
       "828                             San Diego, CA 92120     4.5            12   \n",
       "829  1255 Imperial Ave Ste 1000 San Diego, CA 92101     2.5           268   \n",
       "830               100 Park Blvd San Diego, CA 92101     4.0          1667   \n",
       "831     2700 Carlsbad Village Dr Carlsbad, CA 92008     3.0            50   \n",
       "832           4949 S Mission Rd Fallbrook, CA 92028     5.0             1   \n",
       "\n",
       "      longitude   latitude    zip  \n",
       "0   -117.153150  32.734502  92101  \n",
       "1   -117.147278  32.778315  92108  \n",
       "2   -117.172479  32.721952  92101  \n",
       "3   -117.143789  32.762463  92116  \n",
       "4   -117.178967  32.701785  92118  \n",
       "..          ...        ...    ...  \n",
       "828 -117.073524  32.792626  92120  \n",
       "829 -117.153400  32.705760  92101  \n",
       "830 -117.157054  32.707246  92101  \n",
       "831 -117.316419  33.171137  92008  \n",
       "832 -117.227747  33.302164  92028  \n",
       "\n",
       "[833 rows x 7 columns]"
      ]
     },
     "execution_count": 19,
     "metadata": {},
     "output_type": "execute_result"
    }
   ],
   "source": [
    "# Data frame one is from the parks dataset, and dataframe 2 is from the reviews data set (both from yelp)\n",
    "df_1 = Yelp_parks_df[['name', 'address', 'rating', 'review_count', 'longitude', 'latitude']]\n",
    "df_1['zip']= df_1['address'].str.extract(r'(\\d{5}\\-?\\d{0,4})')\n",
    "df_1"
   ]
  },
  {
   "cell_type": "code",
   "execution_count": 20,
   "metadata": {},
   "outputs": [
    {
     "data": {
      "image/png": "[encoded data removed]",
      "text/plain": [
       "<Figure size 432x288 with 1 Axes>"
      ]
     },
     "metadata": {},
     "output_type": "display_data"
    }
   ],
   "source": [
    "#graph zipcode and rating\n",
    "sns.set_style(\"white\")\n",
    "z = df_1.groupby(df_1['zip'])\n",
    "fig = sns.scatterplot(x = df_1['zip'], y = df_1['rating'])\n",
    "plt.xlabel(\"Zip Codes\")\n",
    "plt.ylabel(\"Rating\")\n",
    "plt.title(\"Distribution of Ratings acorss the zipcodes\") \n",
    "plt.show(fig)"
   ]
  },
  {
   "cell_type": "markdown",
   "metadata": {},
   "source": [
    "There is not obvious clustering of ratings acorss the zipcodes. "
   ]
  },
  {
   "cell_type": "code",
   "execution_count": 21,
   "metadata": {},
   "outputs": [
    {
     "data": {
      "text/plain": [
       "count      833.000000\n",
       "mean       201.246098\n",
       "std        744.775857\n",
       "min          1.000000\n",
       "25%          6.000000\n",
       "50%         22.000000\n",
       "75%        109.000000\n",
       "max      14195.000000\n",
       "Name: review_count, dtype: float64"
      ]
     },
     "execution_count": 21,
     "metadata": {},
     "output_type": "execute_result"
    }
   ],
   "source": [
    "# The distribution of number of reviews per park\n",
    "df_1['review_count'].describe()"
   ]
  },
  {
   "cell_type": "code",
   "execution_count": 34,
   "metadata": {},
   "outputs": [
    {
     "data": {
      "image/png": "[encoded data removed]",
      "text/plain": [
       "<Figure size 432x288 with 1 Axes>"
      ]
     },
     "metadata": {},
     "output_type": "display_data"
    }
   ],
   "source": [
    "fig = sns.distplot(df_1['review_count'], kde = True, bins = 15)\n",
    "plt.xlabel(\"Number of Reviews per Park\")\n",
    "plt.title(\"Approximately Half of the Parks have 20 reviews, making their rating score highly suseptible to outliars\")\n",
    "f1 = plt.gcf()"
   ]
  },
  {
   "cell_type": "markdown",
   "metadata": {},
   "source": [
    "50% of the parks have 22 or less reviews. 75% have 110 or less. This means that the overall score is very suseptible to outliars. We know that none of the parks in the dataset have no reviews because of the Yelp API, but some do have only one review. This makes have text reviews more critical to backing the numeric score. "
   ]
  },
  {
   "cell_type": "code",
   "execution_count": 22,
   "metadata": {},
   "outputs": [],
   "source": [
    "# I remove irrelevant columns to just see the difference in rating between the overall score and the scores with text reviews\n",
    "df_2 = Yelp_reviews_df[['id','rating']]"
   ]
  },
  {
   "cell_type": "markdown",
   "metadata": {},
   "source": [
    "# Results"
   ]
  },
  {
   "cell_type": "code",
   "execution_count": 23,
   "metadata": {},
   "outputs": [
    {
     "data": {
      "text/html": [
       "<div>\n",
       "<style scoped>\n",
       "    .dataframe tbody tr th:only-of-type {\n",
       "        vertical-align: middle;\n",
       "    }\n",
       "\n",
       "    .dataframe tbody tr th {\n",
       "        vertical-align: top;\n",
       "    }\n",
       "\n",
       "    .dataframe thead th {\n",
       "        text-align: right;\n",
       "    }\n",
       "</style>\n",
       "<table border=\"1\" class=\"dataframe\">\n",
       "  <thead>\n",
       "    <tr style=\"text-align: right;\">\n",
       "      <th></th>\n",
       "      <th>review_rating</th>\n",
       "      <th>rating</th>\n",
       "      <th>rating_difference</th>\n",
       "    </tr>\n",
       "    <tr>\n",
       "      <th>name</th>\n",
       "      <th></th>\n",
       "      <th></th>\n",
       "      <th></th>\n",
       "    </tr>\n",
       "  </thead>\n",
       "  <tbody>\n",
       "    <tr>\n",
       "      <th>13th &amp; Market</th>\n",
       "      <td>2.666667</td>\n",
       "      <td>3.5</td>\n",
       "      <td>0.833333</td>\n",
       "    </tr>\n",
       "    <tr>\n",
       "      <th>1935 Cactus Garden</th>\n",
       "      <td>5.000000</td>\n",
       "      <td>5.0</td>\n",
       "      <td>0.000000</td>\n",
       "    </tr>\n",
       "    <tr>\n",
       "      <th>4S Patriot Park</th>\n",
       "      <td>4.333333</td>\n",
       "      <td>4.5</td>\n",
       "      <td>0.166667</td>\n",
       "    </tr>\n",
       "    <tr>\n",
       "      <th>4S Ranch Community Park</th>\n",
       "      <td>4.666667</td>\n",
       "      <td>5.0</td>\n",
       "      <td>0.333333</td>\n",
       "    </tr>\n",
       "    <tr>\n",
       "      <th>5 Star Dealer School</th>\n",
       "      <td>5.000000</td>\n",
       "      <td>5.0</td>\n",
       "      <td>0.000000</td>\n",
       "    </tr>\n",
       "    <tr>\n",
       "      <th>...</th>\n",
       "      <td>...</td>\n",
       "      <td>...</td>\n",
       "      <td>...</td>\n",
       "    </tr>\n",
       "    <tr>\n",
       "      <th>Windwood Park</th>\n",
       "      <td>3.666667</td>\n",
       "      <td>3.5</td>\n",
       "      <td>0.166667</td>\n",
       "    </tr>\n",
       "    <tr>\n",
       "      <th>Working Class</th>\n",
       "      <td>5.000000</td>\n",
       "      <td>4.5</td>\n",
       "      <td>0.500000</td>\n",
       "    </tr>\n",
       "    <tr>\n",
       "      <th>You &amp; Yours Distilling Co</th>\n",
       "      <td>5.000000</td>\n",
       "      <td>5.0</td>\n",
       "      <td>0.000000</td>\n",
       "    </tr>\n",
       "    <tr>\n",
       "      <th>Zeglio Custom Clothiers</th>\n",
       "      <td>5.000000</td>\n",
       "      <td>5.0</td>\n",
       "      <td>0.000000</td>\n",
       "    </tr>\n",
       "    <tr>\n",
       "      <th>Zoro Garden</th>\n",
       "      <td>3.666667</td>\n",
       "      <td>4.0</td>\n",
       "      <td>0.333333</td>\n",
       "    </tr>\n",
       "  </tbody>\n",
       "</table>\n",
       "<p>818 rows × 3 columns</p>\n",
       "</div>"
      ],
      "text/plain": [
       "                           review_rating  rating  rating_difference\n",
       "name                                                               \n",
       "13th & Market                   2.666667     3.5           0.833333\n",
       "1935 Cactus Garden              5.000000     5.0           0.000000\n",
       "4S Patriot Park                 4.333333     4.5           0.166667\n",
       "4S Ranch Community Park         4.666667     5.0           0.333333\n",
       "5 Star Dealer School            5.000000     5.0           0.000000\n",
       "...                                  ...     ...                ...\n",
       "Windwood Park                   3.666667     3.5           0.166667\n",
       "Working Class                   5.000000     4.5           0.500000\n",
       "You & Yours Distilling Co       5.000000     5.0           0.000000\n",
       "Zeglio Custom Clothiers         5.000000     5.0           0.000000\n",
       "Zoro Garden                     3.666667     4.0           0.333333\n",
       "\n",
       "[818 rows x 3 columns]"
      ]
     },
     "execution_count": 23,
     "metadata": {},
     "output_type": "execute_result"
    }
   ],
   "source": [
    "# I rename the columns in both dataframes and combined to make df\n",
    "df_3 = df_2.rename(columns={\"id\": \"name\", \"rating\": \"review_rating\"})\n",
    "df_3 = df_3.groupby(['name']).mean()\n",
    "df_4 = df_1[['name', 'rating']]\n",
    "df_4 = df_4.groupby(['name']).mean()\n",
    "df = pd.concat([df_3, df_4], axis=1, sort=False)\n",
    "# I add a new column to see the difference between the ratings in the two data frames\n",
    "df = df.assign(rating_difference = (df['review_rating'] - df['rating']).abs())\n",
    "df"
   ]
  },
  {
   "cell_type": "code",
   "execution_count": 24,
   "metadata": {},
   "outputs": [
    {
     "data": {
      "text/plain": [
       "count    818.000000\n",
       "mean       0.388855\n",
       "std        0.402921\n",
       "min        0.000000\n",
       "25%        0.000000\n",
       "50%        0.333333\n",
       "75%        0.500000\n",
       "max        2.166667\n",
       "Name: rating_difference, dtype: float64"
      ]
     },
     "execution_count": 24,
     "metadata": {},
     "output_type": "execute_result"
    }
   ],
   "source": [
    "# I looked at the description of the rating differences\n",
    "df['rating_difference'].describe()"
   ]
  },
  {
   "cell_type": "markdown",
   "metadata": {},
   "source": [
    " "
   ]
  },
  {
   "cell_type": "code",
   "execution_count": 30,
   "metadata": {},
   "outputs": [
    {
     "data": {
      "image/png": "[encoded data removed]",
      "text/plain": [
       "<Figure size 432x288 with 1 Axes>"
      ]
     },
     "metadata": {},
     "output_type": "display_data"
    }
   ],
   "source": [
    "fig = sns.distplot(df['rating_difference'], kde = False, bins = 25)\n",
    "plt.ylabel(\"count\")\n",
    "plt.xlabel(\"DIfference in ratings\")\n",
    "plt.title(\"Differnce in Ratings: Majority are off by less than .5\")\n",
    "f1 = plt.gcf()"
   ]
  },
  {
   "cell_type": "markdown",
   "metadata": {},
   "source": [
    "The difference in ratings from both Yelp datasets is not significant. "
   ]
  },
  {
   "cell_type": "markdown",
   "metadata": {},
   "source": [
    "# Ethics & Privacy"
   ]
  },
  {
   "cell_type": "markdown",
   "metadata": {},
   "source": [
    "The first issue I noticed was where the reviews dataset comes from: Yelp. People like to write reviews after extreme experiences: positive or negative. This poses the issue that you're not hearing the reviews of the overall population, but instead people with really great experiences or really aweful experiences. Yelp is also suseptible to fake reviews; people could just rate a place 5 over and over again on different accounts. This is why I first did tf-idf text analysis. I noticed that there were significantly less reviews in the review data frame than review_counts in the parks dataframe. \n",
    "\n",
    "Since the address do not correlate to individuals or reveal any personal information, I didn't need to employ the safe harbor method.The biggest take away is how suseptible this can be to outliars. In the future, I would gather more text reviews or double check the rating with the reliability of the account user. \n",
    "\n",
    "This was only an analysis on the reviews provided, so this does not generalize to all Yelp reviews/ratings. This could easily change with other data. "
   ]
  },
  {
   "cell_type": "markdown",
   "metadata": {},
   "source": [
    "# Conclusion & Discussion"
   ]
  },
  {
   "cell_type": "markdown",
   "metadata": {},
   "source": [
    "Based on this analysis, there is a difference in the overall Yelp rating and the rating from the reviews dataset; however, the difference is not significant. This means the Yelp rating is a good representation of the sentiment of the textual reviews. \n",
    "\n",
    "Users can trust the Yelp rating. One limitation of the data is not having access to profiles of users who posted the review. I would love to weight each review by a \"trustworthiness of user\" score. \n"
   ]
  }
 ],
 "metadata": {
  "kernelspec": {
   "display_name": "Python 3",
   "language": "python",
   "name": "python3"
  },
  "language_info": {
   "codemirror_mode": {
    "name": "ipython",
    "version": 3
   },
   "file_extension": ".py",
   "mimetype": "text/x-python",
   "name": "python",
   "nbconvert_exporter": "python",
   "pygments_lexer": "ipython3",
   "version": "3.7.6"
  }
 },
 "nbformat": 4,
 "nbformat_minor": 2
}
